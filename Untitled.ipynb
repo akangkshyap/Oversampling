{
 "cells": [
  {
   "cell_type": "code",
   "execution_count": 2,
   "metadata": {},
   "outputs": [],
   "source": [
    "import Reverse_SMOTE_module1 as rs"
   ]
  },
  {
   "cell_type": "code",
   "execution_count": 3,
   "metadata": {},
   "outputs": [],
   "source": [
    "import pandas as pd\n",
    "import numpy as np\n",
    "from sklearn.decomposition import PCA as sklearnPCA\n",
    "import matplotlib.pyplot as plt\n",
    "import seaborn as sns\n",
    "sns.set_style(\"whitegrid\")\n",
    "\n",
    "%matplotlib inline"
   ]
  },
  {
   "cell_type": "code",
   "execution_count": 4,
   "metadata": {},
   "outputs": [],
   "source": [
    "import smote_variants as sv"
   ]
  },
  {
   "cell_type": "markdown",
   "metadata": {},
   "source": [
    "Page Block Dataset"
   ]
  },
  {
   "cell_type": "code",
   "execution_count": 5,
   "metadata": {},
   "outputs": [],
   "source": [
    "col_names=[\"Height\", \"Lenght\", \"Area\", \"Eccen\", \"P_black\", \"P_and\", \"Mean_tr\", \"Blackpix\", \"Blackand\", \"Wb_trans\",\"Class\"]\n",
    "path=r\"E:\\5th SEM CSE\\ML internship\\page-blocks0\\\\\"\n",
    "df_pb=pd.read_csv(path+\"page-blocks0.dat\", names= col_names) "
   ]
  },
  {
   "cell_type": "code",
   "execution_count": 6,
   "metadata": {},
   "outputs": [
    {
     "name": "stdout",
     "output_type": "stream",
     "text": [
      "      Height  Lenght    Area    Eccen  P_black  P_and  Mean_tr  Blackpix  \\\n",
      "0          5       7    35.0    1.400    0.400  0.657     2.33        14   \n",
      "1          6       7    42.0    1.167    0.429  0.881     3.60        18   \n",
      "2          6      18   108.0    3.000    0.287  0.741     4.43        31   \n",
      "3          5       7    35.0    1.400    0.371  0.743     4.33        13   \n",
      "4          6       3    18.0  500.000    0.500  0.944     2.25         9   \n",
      "...      ...     ...     ...      ...      ...    ...      ...       ...   \n",
      "5467       1      16    16.0   16.000    1.000  1.000    16.00        16   \n",
      "5468       4     524  2096.0  131.000    0.542  0.603    40.57      1136   \n",
      "5469       7       4    28.0    0.571    0.714  0.929    10.00        20   \n",
      "5470       6      95   570.0   15.833    0.300  0.911     1.64       171   \n",
      "5471       7      41   287.0    5.857    0.213  0.801     1.36        61   \n",
      "\n",
      "      Blackand  Wb_trans      Class  \n",
      "0           23         6   negative  \n",
      "1           37         5   negative  \n",
      "2           80         7   negative  \n",
      "3           26         3   negative  \n",
      "4           17         4   negative  \n",
      "...        ...       ...        ...  \n",
      "5467        16         1   positive  \n",
      "5468      1264        28   positive  \n",
      "5469        26         2   negative  \n",
      "5470       519       104   negative  \n",
      "5471       230        45   negative  \n",
      "\n",
      "[5472 rows x 11 columns]\n"
     ]
    }
   ],
   "source": [
    "print(df_pb)"
   ]
  },
  {
   "cell_type": "code",
   "execution_count": 7,
   "metadata": {},
   "outputs": [],
   "source": [
    "from sklearn.preprocessing import LabelEncoder\n",
    "le = LabelEncoder()\n",
    "df_pb.iloc[:,-1] = le.fit_transform(df_pb.iloc[:,-1])"
   ]
  },
  {
   "cell_type": "code",
   "execution_count": 8,
   "metadata": {},
   "outputs": [],
   "source": [
    "y_pb = df_pb.iloc[:, -1].values\n",
    "X_pb = df_pb.iloc[:, :-1].values\n",
    "\n",
    "from sklearn.model_selection import train_test_split\n",
    "X_pb_train, X_pb_test, y_pb_train, y_pb_test = train_test_split(X_pb,y_pb,test_size=.25,random_state=0)"
   ]
  },
  {
   "cell_type": "code",
   "execution_count": 9,
   "metadata": {},
   "outputs": [
    {
     "name": "stdout",
     "output_type": "stream",
     "text": [
      "[[ 1.45911732 -0.77303932 -0.23757605 ... -0.25094805 -0.36680625\n",
      "  -0.63458324]\n",
      " [-0.48957127 -0.70223999 -0.2438391  ... -0.27472663 -0.38285585\n",
      "  -0.63458324]\n",
      " [-0.38700871  4.08556471  0.09874985 ...  0.14853212 -0.05651397\n",
      "  -0.51858807]\n",
      " ...\n",
      " [-0.1818836  -0.52524167 -0.20333803 ... -0.2327178  -0.29672299\n",
      "  -0.38427788]\n",
      " [ 0.02324152  0.85534527  0.17912568 ...  0.19371143  0.5116419\n",
      "   1.2518645 ]\n",
      " [-0.13060232 -0.58719108 -0.20897478 ... -0.22716947 -0.30153787\n",
      "  -0.47585301]]\n"
     ]
    }
   ],
   "source": [
    "from sklearn.preprocessing import StandardScaler\n",
    "sc = StandardScaler()\n",
    "X_pb_train[:, :] = sc.fit_transform(X_pb_train[:, :])\n",
    "X_pb_test[:, :] = sc.transform(X_pb_test[:, :])\n",
    "\n",
    "print(X_pb_train)"
   ]
  },
  {
   "cell_type": "code",
   "execution_count": 10,
   "metadata": {},
   "outputs": [
    {
     "name": "stdout",
     "output_type": "stream",
     "text": [
      "        Height    Lenght      Area     Eccen   P_black     P_and   Mean_tr  \\\n",
      "0     1.459117 -0.773039 -0.237576 -0.437309  3.538069  1.254783  0.407015   \n",
      "1    -0.489571 -0.702240 -0.243839 -0.152916  3.538069  1.254783  0.029127   \n",
      "2    -0.387009  4.085565  0.098750  5.371733 -0.215851 -2.355770  0.257749   \n",
      "3    -0.028040 -0.073896 -0.078703 -0.184607 -0.333336  0.318928 -0.058795   \n",
      "4     0.125804  0.554448  0.164094 -0.070045 -0.366903 -0.328083 -0.051615   \n",
      "...        ...       ...       ...       ...       ...       ...       ...   \n",
      "4099 -0.284446 -0.056196 -0.160123  0.081596 -0.036826  0.110960 -0.057661   \n",
      "4100 -0.130602 -0.675690 -0.225676 -0.390597  0.505842  0.474904 -0.057787   \n",
      "4101 -0.181884 -0.525242 -0.203338 -0.306838 -0.350119  0.313151 -0.065597   \n",
      "4102  0.023242  0.855345  0.179126  0.094842 -0.406064  0.249605 -0.059802   \n",
      "4103 -0.130602 -0.587191 -0.208975 -0.350983  0.136604  0.763748 -0.051993   \n",
      "\n",
      "      Blackpix  Blackand  Wb_trans  Class  \n",
      "0    -0.250948 -0.366806 -0.634583      1  \n",
      "1    -0.274727 -0.382856 -0.634583      1  \n",
      "2     0.148532 -0.056514 -0.518588      1  \n",
      "3    -0.086876 -0.029230  0.104123      0  \n",
      "4     0.188163  0.374685  0.757359      0  \n",
      "...        ...       ...       ...    ...  \n",
      "4099 -0.164553 -0.211660 -0.213338      0  \n",
      "4100 -0.246985 -0.343267 -0.512483      0  \n",
      "4101 -0.232718 -0.296723 -0.384278      0  \n",
      "4102  0.193711  0.511642  1.251864      0  \n",
      "4103 -0.227169 -0.301538 -0.475853      0  \n",
      "\n",
      "[4104 rows x 11 columns]\n"
     ]
    }
   ],
   "source": [
    "# print(y_pb_train)\n",
    "y_pb_train=y_pb_train.reshape((-1, 1))\n",
    "# print(X_pb_train)\n",
    "\n",
    "\n",
    "X_pb_train=np.concatenate([X_pb_train, y_pb_train], axis=1)\n",
    "\n",
    "# print(X_pb_train)\n",
    "\n",
    "df_pb_train=pd.DataFrame(X_pb_train,columns=col_names)\n",
    "df_pb_train.iloc[:,-1] = le.fit_transform(df_pb_train.iloc[:,-1])\n",
    "print(df_pb_train)"
   ]
  },
  {
   "cell_type": "code",
   "execution_count": 11,
   "metadata": {},
   "outputs": [
    {
     "name": "stdout",
     "output_type": "stream",
     "text": [
      "\n",
      "Before Sampling:\n",
      "Size of minority=  (435, 11)\n",
      "Size of majority=  (3669, 11)\n",
      "Total Size=  (4104, 11)\n"
     ]
    }
   ],
   "source": [
    "print(\"\\nBefore Sampling:\")\n",
    "rs.majority_minority_count(df_pb_train)"
   ]
  },
  {
   "cell_type": "code",
   "execution_count": 12,
   "metadata": {},
   "outputs": [
    {
     "name": "stderr",
     "output_type": "stream",
     "text": [
      "2021-03-25 01:39:15,016:INFO:SMOTE: Running sampling via ('SMOTE', \"{'proportion': 1.0, 'n_neighbors': 5, 'n_jobs': 1, 'random_state': None}\")\n"
     ]
    }
   ],
   "source": [
    "oversampler = sv.SMOTE()\n",
    "df_pb_smote=rs.oversampler_fun(df_pb_train,oversampler)"
   ]
  },
  {
   "cell_type": "code",
   "execution_count": 13,
   "metadata": {},
   "outputs": [
    {
     "name": "stdout",
     "output_type": "stream",
     "text": [
      "Size of minority=  (3669, 11)\n",
      "Size of majority=  (3669, 11)\n",
      "Total Size=  (7338, 11)\n"
     ]
    }
   ],
   "source": [
    "df_pb_smote.columns = [*df_pb_smote.columns[:-1], 'Class']\n",
    "rs.majority_minority_count(df_pb_smote)\n",
    "df_pb_smote.to_csv(path+\"file_smote_page_block.csv\",index=False)"
   ]
  },
  {
   "cell_type": "code",
   "execution_count": 14,
   "metadata": {},
   "outputs": [
    {
     "name": "stderr",
     "output_type": "stream",
     "text": [
      "2021-03-25 01:39:17,230:INFO:ADASYN: Running sampling via ('ADASYN', \"{'n_neighbors': 5, 'd_th': 0.9, 'beta': 1.0, 'n_jobs': 1, 'random_state': None}\")\n"
     ]
    }
   ],
   "source": [
    "oversampler = sv.ADASYN()\n",
    "df_pb_ad=rs.oversampler_fun(df_pb_train,oversampler)"
   ]
  },
  {
   "cell_type": "code",
   "execution_count": 15,
   "metadata": {},
   "outputs": [
    {
     "name": "stdout",
     "output_type": "stream",
     "text": [
      "Size of minority=  (3669, 11)\n",
      "Size of majority=  (3669, 11)\n",
      "Total Size=  (7338, 11)\n"
     ]
    }
   ],
   "source": [
    "df_pb_ad.columns = [*df_pb_ad.columns[:-1], 'Class']\n",
    "rs.majority_minority_count(df_pb_ad)\n",
    "df_pb_ad.to_csv(path+\"file_adasyn_page_block.csv\",index=False)"
   ]
  },
  {
   "cell_type": "code",
   "execution_count": 16,
   "metadata": {},
   "outputs": [
    {
     "name": "stderr",
     "output_type": "stream",
     "text": [
      "2021-03-25 01:39:19,892:INFO:Borderline_SMOTE1: Running sampling via ('Borderline_SMOTE1', \"{'proportion': 1.0, 'n_neighbors': 5, 'k_neighbors': 5, 'n_jobs': 1, 'random_state': None}\")\n"
     ]
    }
   ],
   "source": [
    "oversampler = sv.Borderline_SMOTE1()\n",
    "df_pb_bd=rs.oversampler_fun(df_pb_train,oversampler)"
   ]
  },
  {
   "cell_type": "code",
   "execution_count": 17,
   "metadata": {},
   "outputs": [
    {
     "name": "stdout",
     "output_type": "stream",
     "text": [
      "Size of minority=  (3669, 11)\n",
      "Size of majority=  (3669, 11)\n",
      "Total Size=  (7338, 11)\n"
     ]
    }
   ],
   "source": [
    "df_pb_bd.columns = [*df_pb_bd.columns[:-1], 'Class']\n",
    "rs.majority_minority_count(df_pb_bd)\n",
    "df_pb_bd.to_csv(path+\"file_adasyn_page_block.csv\",index=False)"
   ]
  },
  {
   "cell_type": "code",
   "execution_count": 18,
   "metadata": {},
   "outputs": [
    {
     "name": "stderr",
     "output_type": "stream",
     "text": [
      "2021-03-25 01:39:21,527:INFO:Safe_Level_SMOTE: Running sampling via ('Safe_Level_SMOTE', \"{'proportion': 1.0, 'n_neighbors': 5, 'n_jobs': 1, 'random_state': None}\")\n"
     ]
    }
   ],
   "source": [
    "oversampler = sv.Safe_Level_SMOTE()\n",
    "df_pb_sl=rs.oversampler_fun(df_pb_train,oversampler)"
   ]
  },
  {
   "cell_type": "code",
   "execution_count": 19,
   "metadata": {},
   "outputs": [
    {
     "name": "stdout",
     "output_type": "stream",
     "text": [
      "Size of minority=  (952, 11)\n",
      "Size of majority=  (3669, 11)\n",
      "Total Size=  (4621, 11)\n"
     ]
    }
   ],
   "source": [
    "df_pb_sl.columns = [*df_pb_sl.columns[:-1], 'Class']\n",
    "rs.majority_minority_count(df_pb_sl)\n",
    "df_pb_sl.to_csv(path+\"file_adasyn_page_block.csv\",index=False)"
   ]
  },
  {
   "cell_type": "code",
   "execution_count": 20,
   "metadata": {},
   "outputs": [],
   "source": [
    " from sklearn.tree import DecisionTreeClassifier\n",
    " from sklearn.metrics import accuracy_score, f1_score, precision_score, recall_score"
   ]
  },
  {
   "cell_type": "markdown",
   "metadata": {},
   "source": [
    "Without SMOTE"
   ]
  },
  {
   "cell_type": "code",
   "execution_count": 21,
   "metadata": {},
   "outputs": [],
   "source": [
    "y = df_pb.iloc[:, -1].values\n",
    "X = df_pb.iloc[:, :-1].values\n",
    "from sklearn.model_selection import train_test_split\n",
    "X_train, X_test, y_train, y_test = train_test_split(X,y,test_size=.25,random_state=0)"
   ]
  },
  {
   "cell_type": "code",
   "execution_count": 22,
   "metadata": {},
   "outputs": [],
   "source": [
    "temp1={}"
   ]
  },
  {
   "cell_type": "code",
   "execution_count": 23,
   "metadata": {},
   "outputs": [],
   "source": [
    "modeldt = DecisionTreeClassifier()\n",
    "modeldt.fit(X_train, y_train)\n",
    "y_pred = modeldt.predict(X_test)\n",
    "temp1[0]=([accuracy_score(y_test, y_pred),precision_score(y_test, y_pred, average='weighted'),recall_score(y_test, y_pred, average='weighted'),f1_score(y_test, y_pred, average='weighted')])      "
   ]
  },
  {
   "cell_type": "code",
   "execution_count": 24,
   "metadata": {},
   "outputs": [
    {
     "name": "stdout",
     "output_type": "stream",
     "text": [
      "{0: [0.9605263157894737, 0.9636689372951022, 0.9605263157894737, 0.9617180603330189]}\n"
     ]
    }
   ],
   "source": [
    "print(temp1)"
   ]
  },
  {
   "cell_type": "markdown",
   "metadata": {},
   "source": [
    "Training with smote"
   ]
  },
  {
   "cell_type": "code",
   "execution_count": 25,
   "metadata": {},
   "outputs": [],
   "source": [
    "y = df_pb_smote.iloc[:, -1].values\n",
    "X = df_pb_smote.iloc[:, :-1].values\n",
    "from sklearn.model_selection import train_test_split\n",
    "X_train, X_test, y_train, y_test = train_test_split(X,y,test_size=.25,random_state=0)"
   ]
  },
  {
   "cell_type": "code",
   "execution_count": 26,
   "metadata": {},
   "outputs": [],
   "source": [
    "modeldt = DecisionTreeClassifier()\n",
    "modeldt.fit(X_train, y_train)\n",
    "y_pred = modeldt.predict(X_test)\n",
    "temp1[1]=([accuracy_score(y_test, y_pred),precision_score(y_test, y_pred, average='weighted'),recall_score(y_test, y_pred, average='weighted'),f1_score(y_test, y_pred, average='weighted')])   "
   ]
  },
  {
   "cell_type": "code",
   "execution_count": 27,
   "metadata": {},
   "outputs": [
    {
     "name": "stdout",
     "output_type": "stream",
     "text": [
      "{0: [0.9605263157894737, 0.9636689372951022, 0.9605263157894737, 0.9617180603330189], 1: [0.9678474114441417, 0.9678472605390391, 0.9678474114441417, 0.9678470484382405]}\n"
     ]
    }
   ],
   "source": [
    "print(temp1)"
   ]
  },
  {
   "cell_type": "raw",
   "metadata": {},
   "source": [
    "training with adasyn"
   ]
  },
  {
   "cell_type": "code",
   "execution_count": 28,
   "metadata": {},
   "outputs": [],
   "source": [
    "y = df_pb_ad.iloc[:, -1].values\n",
    "X = df_pb_ad.iloc[:, :-1].values\n",
    "from sklearn.model_selection import train_test_split\n",
    "X_train, X_test, y_train, y_test = train_test_split(X,y,test_size=.25,random_state=0)"
   ]
  },
  {
   "cell_type": "code",
   "execution_count": 29,
   "metadata": {},
   "outputs": [],
   "source": [
    "modeldt = DecisionTreeClassifier()\n",
    "modeldt.fit(X_train, y_train)\n",
    "y_pred = modeldt.predict(X_test)\n",
    "temp1[2]=([accuracy_score(y_test, y_pred),precision_score(y_test, y_pred, average='weighted'),recall_score(y_test, y_pred, average='weighted'),f1_score(y_test, y_pred, average='weighted')])   "
   ]
  },
  {
   "cell_type": "code",
   "execution_count": 30,
   "metadata": {},
   "outputs": [
    {
     "name": "stdout",
     "output_type": "stream",
     "text": [
      "{0: [0.9605263157894737, 0.9636689372951022, 0.9605263157894737, 0.9617180603330189], 1: [0.9678474114441417, 0.9678472605390391, 0.9678474114441417, 0.9678470484382405], 2: [0.9732970027247957, 0.9732981522226594, 0.9732970027247957, 0.9732972883243737]}\n"
     ]
    }
   ],
   "source": [
    "print(temp1)"
   ]
  },
  {
   "cell_type": "markdown",
   "metadata": {},
   "source": [
    "Borderline SMOTE"
   ]
  },
  {
   "cell_type": "code",
   "execution_count": 31,
   "metadata": {},
   "outputs": [],
   "source": [
    "y = df_pb_bd.iloc[:, -1].values\n",
    "X = df_pb_bd.iloc[:, :-1].values\n",
    "from sklearn.model_selection import train_test_split\n",
    "X_train, X_test, y_train, y_test = train_test_split(X,y,test_size=.25,random_state=0)"
   ]
  },
  {
   "cell_type": "code",
   "execution_count": 32,
   "metadata": {},
   "outputs": [],
   "source": [
    "modeldt = DecisionTreeClassifier()\n",
    "modeldt.fit(X_train, y_train)\n",
    "y_pred = modeldt.predict(X_test)\n",
    "temp1[3]=([accuracy_score(y_test, y_pred),precision_score(y_test, y_pred, average='weighted'),recall_score(y_test, y_pred, average='weighted'),f1_score(y_test, y_pred, average='weighted')])   "
   ]
  },
  {
   "cell_type": "code",
   "execution_count": 33,
   "metadata": {},
   "outputs": [
    {
     "name": "stdout",
     "output_type": "stream",
     "text": [
      "{0: [0.9605263157894737, 0.9636689372951022, 0.9605263157894737, 0.9617180603330189], 1: [0.9678474114441417, 0.9678472605390391, 0.9678474114441417, 0.9678470484382405], 2: [0.9732970027247957, 0.9732981522226594, 0.9732970027247957, 0.9732972883243737], 3: [0.976566757493188, 0.9765909113555067, 0.976566757493188, 0.9765646128219007]}\n"
     ]
    }
   ],
   "source": [
    "print(temp1)"
   ]
  },
  {
   "cell_type": "markdown",
   "metadata": {},
   "source": [
    "With Safe Level SMOTE"
   ]
  },
  {
   "cell_type": "code",
   "execution_count": 34,
   "metadata": {},
   "outputs": [],
   "source": [
    "y = df_pb_sl.iloc[:, -1].values\n",
    "X = df_pb_sl.iloc[:, :-1].values\n",
    "from sklearn.model_selection import train_test_split\n",
    "X_train, X_test, y_train, y_test = train_test_split(X,y,test_size=.25,random_state=0)"
   ]
  },
  {
   "cell_type": "code",
   "execution_count": 35,
   "metadata": {},
   "outputs": [],
   "source": [
    "modeldt = DecisionTreeClassifier()\n",
    "modeldt.fit(X_train, y_train)\n",
    "y_pred = modeldt.predict(X_test)\n",
    "temp1[4]=([accuracy_score(y_test, y_pred),precision_score(y_test, y_pred, average='weighted'),recall_score(y_test, y_pred, average='weighted'),f1_score(y_test, y_pred, average='weighted')])   "
   ]
  },
  {
   "cell_type": "code",
   "execution_count": 36,
   "metadata": {},
   "outputs": [
    {
     "name": "stdout",
     "output_type": "stream",
     "text": [
      "{0: [0.9605263157894737, 0.9636689372951022, 0.9605263157894737, 0.9617180603330189], 1: [0.9678474114441417, 0.9678472605390391, 0.9678474114441417, 0.9678470484382405], 2: [0.9732970027247957, 0.9732981522226594, 0.9732970027247957, 0.9732972883243737], 3: [0.976566757493188, 0.9765909113555067, 0.976566757493188, 0.9765646128219007], 4: [0.948961937716263, 0.9482997566610588, 0.948961937716263, 0.9485018596428691]}\n"
     ]
    }
   ],
   "source": [
    "print(temp1)"
   ]
  },
  {
   "cell_type": "code",
   "execution_count": 37,
   "metadata": {},
   "outputs": [
    {
     "data": {
      "text/plain": [
       "{0: [0.9605263157894737,\n",
       "  0.9636689372951022,\n",
       "  0.9605263157894737,\n",
       "  0.9617180603330189],\n",
       " 1: [0.9678474114441417,\n",
       "  0.9678472605390391,\n",
       "  0.9678474114441417,\n",
       "  0.9678470484382405],\n",
       " 2: [0.9732970027247957,\n",
       "  0.9732981522226594,\n",
       "  0.9732970027247957,\n",
       "  0.9732972883243737],\n",
       " 3: [0.976566757493188,\n",
       "  0.9765909113555067,\n",
       "  0.976566757493188,\n",
       "  0.9765646128219007],\n",
       " 4: [0.948961937716263,\n",
       "  0.9482997566610588,\n",
       "  0.948961937716263,\n",
       "  0.9485018596428691]}"
      ]
     },
     "metadata": {},
     "output_type": "display_data"
    }
   ],
   "source": [
    "display(temp1)"
   ]
  },
  {
   "cell_type": "code",
   "execution_count": 38,
   "metadata": {},
   "outputs": [],
   "source": [
    "df_PageBlock=pd.DataFrame(temp1)"
   ]
  },
  {
   "cell_type": "code",
   "execution_count": 39,
   "metadata": {},
   "outputs": [
    {
     "data": {
      "text/html": [
       "<div>\n",
       "<style scoped>\n",
       "    .dataframe tbody tr th:only-of-type {\n",
       "        vertical-align: middle;\n",
       "    }\n",
       "\n",
       "    .dataframe tbody tr th {\n",
       "        vertical-align: top;\n",
       "    }\n",
       "\n",
       "    .dataframe thead th {\n",
       "        text-align: right;\n",
       "    }\n",
       "</style>\n",
       "<table border=\"1\" class=\"dataframe\">\n",
       "  <thead>\n",
       "    <tr style=\"text-align: right;\">\n",
       "      <th></th>\n",
       "      <th>0</th>\n",
       "      <th>1</th>\n",
       "      <th>2</th>\n",
       "      <th>3</th>\n",
       "      <th>4</th>\n",
       "    </tr>\n",
       "  </thead>\n",
       "  <tbody>\n",
       "    <tr>\n",
       "      <th>0</th>\n",
       "      <td>0.960526</td>\n",
       "      <td>0.967847</td>\n",
       "      <td>0.973297</td>\n",
       "      <td>0.976567</td>\n",
       "      <td>0.948962</td>\n",
       "    </tr>\n",
       "    <tr>\n",
       "      <th>1</th>\n",
       "      <td>0.963669</td>\n",
       "      <td>0.967847</td>\n",
       "      <td>0.973298</td>\n",
       "      <td>0.976591</td>\n",
       "      <td>0.948300</td>\n",
       "    </tr>\n",
       "    <tr>\n",
       "      <th>2</th>\n",
       "      <td>0.960526</td>\n",
       "      <td>0.967847</td>\n",
       "      <td>0.973297</td>\n",
       "      <td>0.976567</td>\n",
       "      <td>0.948962</td>\n",
       "    </tr>\n",
       "    <tr>\n",
       "      <th>3</th>\n",
       "      <td>0.961718</td>\n",
       "      <td>0.967847</td>\n",
       "      <td>0.973297</td>\n",
       "      <td>0.976565</td>\n",
       "      <td>0.948502</td>\n",
       "    </tr>\n",
       "  </tbody>\n",
       "</table>\n",
       "</div>"
      ],
      "text/plain": [
       "          0         1         2         3         4\n",
       "0  0.960526  0.967847  0.973297  0.976567  0.948962\n",
       "1  0.963669  0.967847  0.973298  0.976591  0.948300\n",
       "2  0.960526  0.967847  0.973297  0.976567  0.948962\n",
       "3  0.961718  0.967847  0.973297  0.976565  0.948502"
      ]
     },
     "metadata": {},
     "output_type": "display_data"
    }
   ],
   "source": [
    "display(df_PageBlock)"
   ]
  },
  {
   "cell_type": "code",
   "execution_count": 40,
   "metadata": {},
   "outputs": [],
   "source": [
    "head=['Without Smote','With Smote','With ADASYN','With Borderline Smote','With Safe Level Smote']\n",
    "df_PageBlock.columns=head"
   ]
  },
  {
   "cell_type": "code",
   "execution_count": 41,
   "metadata": {},
   "outputs": [
    {
     "data": {
      "text/html": [
       "<div>\n",
       "<style scoped>\n",
       "    .dataframe tbody tr th:only-of-type {\n",
       "        vertical-align: middle;\n",
       "    }\n",
       "\n",
       "    .dataframe tbody tr th {\n",
       "        vertical-align: top;\n",
       "    }\n",
       "\n",
       "    .dataframe thead th {\n",
       "        text-align: right;\n",
       "    }\n",
       "</style>\n",
       "<table border=\"1\" class=\"dataframe\">\n",
       "  <thead>\n",
       "    <tr style=\"text-align: right;\">\n",
       "      <th></th>\n",
       "      <th>Without Smote</th>\n",
       "      <th>With Smote</th>\n",
       "      <th>With ADASYN</th>\n",
       "      <th>With Borderline Smote</th>\n",
       "      <th>With Safe Level Smote</th>\n",
       "    </tr>\n",
       "  </thead>\n",
       "  <tbody>\n",
       "    <tr>\n",
       "      <th>0</th>\n",
       "      <td>0.960526</td>\n",
       "      <td>0.967847</td>\n",
       "      <td>0.973297</td>\n",
       "      <td>0.976567</td>\n",
       "      <td>0.948962</td>\n",
       "    </tr>\n",
       "    <tr>\n",
       "      <th>1</th>\n",
       "      <td>0.963669</td>\n",
       "      <td>0.967847</td>\n",
       "      <td>0.973298</td>\n",
       "      <td>0.976591</td>\n",
       "      <td>0.948300</td>\n",
       "    </tr>\n",
       "    <tr>\n",
       "      <th>2</th>\n",
       "      <td>0.960526</td>\n",
       "      <td>0.967847</td>\n",
       "      <td>0.973297</td>\n",
       "      <td>0.976567</td>\n",
       "      <td>0.948962</td>\n",
       "    </tr>\n",
       "    <tr>\n",
       "      <th>3</th>\n",
       "      <td>0.961718</td>\n",
       "      <td>0.967847</td>\n",
       "      <td>0.973297</td>\n",
       "      <td>0.976565</td>\n",
       "      <td>0.948502</td>\n",
       "    </tr>\n",
       "  </tbody>\n",
       "</table>\n",
       "</div>"
      ],
      "text/plain": [
       "   Without Smote  With Smote  With ADASYN  With Borderline Smote  \\\n",
       "0       0.960526    0.967847     0.973297               0.976567   \n",
       "1       0.963669    0.967847     0.973298               0.976591   \n",
       "2       0.960526    0.967847     0.973297               0.976567   \n",
       "3       0.961718    0.967847     0.973297               0.976565   \n",
       "\n",
       "   With Safe Level Smote  \n",
       "0               0.948962  \n",
       "1               0.948300  \n",
       "2               0.948962  \n",
       "3               0.948502  "
      ]
     },
     "metadata": {},
     "output_type": "display_data"
    }
   ],
   "source": [
    "display(df_PageBlock)"
   ]
  },
  {
   "cell_type": "code",
   "execution_count": 42,
   "metadata": {},
   "outputs": [],
   "source": [
    "df_PageBlock.to_csv(r'E:\\5th SEM CSE\\ML internship\\REPORT\\Page_Block_Dataframe.csv', index = False, header=True)"
   ]
  },
  {
   "cell_type": "markdown",
   "metadata": {},
   "source": [
    "Ecoli3 dataset"
   ]
  },
  {
   "cell_type": "code",
   "execution_count": 43,
   "metadata": {},
   "outputs": [],
   "source": [
    "col_names=[\"Mcg\", \"Gvh\", \"Lip\", \"Chg\", \"Aac\", \"Alm1\", \"Alm2\", \"Class\"]\n",
    "path=r\"E:\\5th SEM CSE\\ML internship\\Ecoli3\\\\\"\n",
    "df_e=pd.read_csv(path+\"ecoli3.dat\", names= col_names)"
   ]
  },
  {
   "cell_type": "code",
   "execution_count": 44,
   "metadata": {},
   "outputs": [
    {
     "name": "stdout",
     "output_type": "stream",
     "text": [
      "      Mcg   Gvh   Lip  Chg   Aac  Alm1  Alm2      Class\n",
      "0    0.68  0.49  1.00  0.5  0.62  0.55  0.28   negative\n",
      "1    0.75  0.84  0.48  0.5  0.35  0.52  0.33   negative\n",
      "2    0.52  0.44  0.48  0.5  0.37  0.36  0.42   negative\n",
      "3    0.87  0.49  0.48  0.5  0.61  0.76  0.79   positive\n",
      "4    0.41  0.51  0.48  0.5  0.58  0.20  0.31   negative\n",
      "..    ...   ...   ...  ...   ...   ...   ...        ...\n",
      "331  0.64  0.81  0.48  0.5  0.37  0.39  0.44   negative\n",
      "332  0.71  0.71  0.48  0.5  0.68  0.43  0.36   negative\n",
      "333  0.53  0.38  0.48  0.5  0.44  0.26  0.36   negative\n",
      "334  0.86  0.39  0.48  0.5  0.59  0.89  0.90   positive\n",
      "335  0.57  0.59  0.48  0.5  0.39  0.47  0.33   negative\n",
      "\n",
      "[336 rows x 8 columns]\n"
     ]
    }
   ],
   "source": [
    "print(df_e)"
   ]
  },
  {
   "cell_type": "code",
   "execution_count": 45,
   "metadata": {},
   "outputs": [],
   "source": [
    "from sklearn.preprocessing import LabelEncoder\n",
    "le = LabelEncoder()\n",
    "df_e.iloc[:,-1] = le.fit_transform(df_e.iloc[:,-1])"
   ]
  },
  {
   "cell_type": "code",
   "execution_count": 46,
   "metadata": {},
   "outputs": [],
   "source": [
    "y_e = df_e.iloc[:, -1].values\n",
    "X_e = df_e.iloc[:, :-1].values\n",
    "\n",
    "from sklearn.model_selection import train_test_split\n",
    "X_e_train, X_e_test, y_e_train, y_e_test = train_test_split(X_e,y_e,test_size=.25,random_state=0)"
   ]
  },
  {
   "cell_type": "code",
   "execution_count": 47,
   "metadata": {},
   "outputs": [
    {
     "name": "stdout",
     "output_type": "stream",
     "text": [
      "[[-0.58704524 -0.58402552 -0.18107149 ...  0.13793276  0.95941425\n",
      "   1.12887555]\n",
      " [ 1.22145598  1.64486674 -0.18107149 ... -1.73370872  0.0910446\n",
      "   0.02625292]\n",
      " [-0.17367353 -1.46207399 -0.18107149 ...  0.4944359  -1.41717637\n",
      "  -1.26813016]\n",
      " ...\n",
      " [-2.08551768 -0.043688   -0.18107149 ... -0.84245087  0.73089592\n",
      "  -1.45989062]\n",
      " [-1.2071028  -0.98927866 -0.18107149 ...  0.04880698  1.18793258\n",
      "   1.320636  ]\n",
      " [ 1.11811306 -0.51648333 -0.18107149 ...  1.29656796  1.18793258\n",
      "   1.320636  ]]\n"
     ]
    }
   ],
   "source": [
    "from sklearn.preprocessing import StandardScaler\n",
    "sc = StandardScaler()\n",
    "X_e_train[:, :] = sc.fit_transform(X_e_train[:, :])\n",
    "X_e_test[:, :] = sc.transform(X_e_test[:, :])\n",
    "\n",
    "print(X_e_train)"
   ]
  },
  {
   "cell_type": "code",
   "execution_count": 48,
   "metadata": {},
   "outputs": [
    {
     "name": "stdout",
     "output_type": "stream",
     "text": [
      "          Mcg       Gvh       Lip       Chg       Aac      Alm1      Alm2  \\\n",
      "0   -0.587045 -0.584026 -0.181071 -0.063119  0.137933  0.959414  1.128876   \n",
      "1    1.221456  1.644867 -0.181071 -0.063119 -1.733709  0.091045  0.026253   \n",
      "2   -0.173674 -1.462074 -0.181071 -0.063119  0.494436 -1.417176 -1.268130   \n",
      "3    0.859756  2.117662 -0.181071 -0.063119  0.316184 -0.091770 -1.364010   \n",
      "4   -0.948745 -0.719110 -0.181071 -0.063119  0.227059 -1.051547 -0.644909   \n",
      "..        ...       ...       ...       ...       ...       ...       ...   \n",
      "247  1.221456  2.725542 -0.181071 -0.063119  0.583562  0.091045 -1.076370   \n",
      "248  0.859756  1.374698 -0.181071 -0.063119 -0.396822 -0.274585 -0.884609   \n",
      "249 -2.085518 -0.043688 -0.181071 -0.063119 -0.842451  0.730896 -1.459891   \n",
      "250 -1.207103 -0.989279 -0.181071 -0.063119  0.048807  1.187933  1.320636   \n",
      "251  1.118113 -0.516483 -0.181071 -0.063119  1.296568  1.187933  1.320636   \n",
      "\n",
      "     Class  \n",
      "0        0  \n",
      "1        0  \n",
      "2        0  \n",
      "3        0  \n",
      "4        0  \n",
      "..     ...  \n",
      "247      0  \n",
      "248      0  \n",
      "249      0  \n",
      "250      0  \n",
      "251      1  \n",
      "\n",
      "[252 rows x 8 columns]\n"
     ]
    }
   ],
   "source": [
    "# print(y_e_train)\n",
    "y_e_train=y_e_train.reshape((-1, 1))\n",
    "# print(X_e_train)\n",
    "X_e_train=np.concatenate([X_e_train, y_e_train], axis=1)\n",
    "\n",
    "# print(X_e_train)\n",
    "df_e_train=pd.DataFrame(X_e_train,columns=col_names)\n",
    "df_e_train.iloc[:,-1] = le.fit_transform(df_e_train.iloc[:,-1])\n",
    "print(df_e_train)"
   ]
  },
  {
   "cell_type": "code",
   "execution_count": 49,
   "metadata": {},
   "outputs": [
    {
     "name": "stdout",
     "output_type": "stream",
     "text": [
      "\n",
      "Before Sampling:\n",
      "Size of minority=  (35, 8)\n",
      "Size of majority=  (301, 8)\n",
      "Total Size=  (336, 8)\n"
     ]
    }
   ],
   "source": [
    "print(\"\\nBefore Sampling:\")\n",
    "rs.majority_minority_count(df_e)"
   ]
  },
  {
   "cell_type": "code",
   "execution_count": 50,
   "metadata": {},
   "outputs": [
    {
     "name": "stderr",
     "output_type": "stream",
     "text": [
      "2021-03-25 01:39:58,901:INFO:SMOTE: Running sampling via ('SMOTE', \"{'proportion': 1.0, 'n_neighbors': 5, 'n_jobs': 1, 'random_state': None}\")\n"
     ]
    }
   ],
   "source": [
    "oversampler = sv.SMOTE()\n",
    "df_e_smote=rs.oversampler_fun(df_e_train,oversampler)"
   ]
  },
  {
   "cell_type": "code",
   "execution_count": 51,
   "metadata": {},
   "outputs": [
    {
     "name": "stdout",
     "output_type": "stream",
     "text": [
      "Size of minority=  (224, 8)\n",
      "Size of majority=  (224, 8)\n",
      "Total Size=  (448, 8)\n"
     ]
    }
   ],
   "source": [
    "df_e_smote.columns = [*df_e_smote.columns[:-1], 'Class']\n",
    "rs.majority_minority_count(df_e_smote)\n",
    "df_e_smote.to_csv(path+\"file_smote_ecoli3.csv\",index=False)"
   ]
  },
  {
   "cell_type": "code",
   "execution_count": 52,
   "metadata": {},
   "outputs": [
    {
     "name": "stderr",
     "output_type": "stream",
     "text": [
      "2021-03-25 01:40:00,694:INFO:ADASYN: Running sampling via ('ADASYN', \"{'n_neighbors': 5, 'd_th': 0.9, 'beta': 1.0, 'n_jobs': 1, 'random_state': None}\")\n"
     ]
    }
   ],
   "source": [
    "oversampler = sv.ADASYN()\n",
    "df_e_ad=rs.oversampler_fun(df_e_train,oversampler)"
   ]
  },
  {
   "cell_type": "code",
   "execution_count": 53,
   "metadata": {},
   "outputs": [
    {
     "name": "stdout",
     "output_type": "stream",
     "text": [
      "Size of minority=  (224, 8)\n",
      "Size of majority=  (224, 8)\n",
      "Total Size=  (448, 8)\n"
     ]
    }
   ],
   "source": [
    "df_e_ad.columns = [*df_e_ad.columns[:-1], 'Class']\n",
    "rs.majority_minority_count(df_e_ad)\n",
    "df_e_ad.to_csv(path+\"file_adasyn_ecoli3.csv\",index=False)"
   ]
  },
  {
   "cell_type": "code",
   "execution_count": 54,
   "metadata": {},
   "outputs": [
    {
     "name": "stderr",
     "output_type": "stream",
     "text": [
      "2021-03-25 01:40:02,276:INFO:Borderline_SMOTE1: Running sampling via ('Borderline_SMOTE1', \"{'proportion': 1.0, 'n_neighbors': 5, 'k_neighbors': 5, 'n_jobs': 1, 'random_state': None}\")\n"
     ]
    }
   ],
   "source": [
    "oversampler = sv.Borderline_SMOTE1()\n",
    "df_e_bd=rs.oversampler_fun(df_e_train,oversampler)"
   ]
  },
  {
   "cell_type": "code",
   "execution_count": 55,
   "metadata": {},
   "outputs": [
    {
     "name": "stdout",
     "output_type": "stream",
     "text": [
      "Size of minority=  (224, 8)\n",
      "Size of majority=  (224, 8)\n",
      "Total Size=  (448, 8)\n"
     ]
    }
   ],
   "source": [
    "df_e_bd.columns = [*df_e_bd.columns[:-1], 'Class']\n",
    "rs.majority_minority_count(df_e_bd)\n",
    "df_e_bd.to_csv(path+\"file_adasyn_ecoli3.csv\",index=False)"
   ]
  },
  {
   "cell_type": "code",
   "execution_count": 56,
   "metadata": {},
   "outputs": [
    {
     "name": "stderr",
     "output_type": "stream",
     "text": [
      "2021-03-25 01:40:03,996:INFO:Safe_Level_SMOTE: Running sampling via ('Safe_Level_SMOTE', \"{'proportion': 1.0, 'n_neighbors': 5, 'n_jobs': 1, 'random_state': None}\")\n"
     ]
    }
   ],
   "source": [
    "oversampler = sv.Safe_Level_SMOTE()\n",
    "df_e_sl=rs.oversampler_fun(df_e_train,oversampler)"
   ]
  },
  {
   "cell_type": "code",
   "execution_count": 57,
   "metadata": {},
   "outputs": [
    {
     "name": "stdout",
     "output_type": "stream",
     "text": [
      "Size of minority=  (80, 8)\n",
      "Size of majority=  (224, 8)\n",
      "Total Size=  (304, 8)\n"
     ]
    }
   ],
   "source": [
    "df_e_sl.columns = [*df_e_sl.columns[:-1], 'Class']\n",
    "rs.majority_minority_count(df_e_sl)\n",
    "df_e_sl.to_csv(path+\"file_ecoli3.csv\",index=False)"
   ]
  },
  {
   "cell_type": "code",
   "execution_count": 58,
   "metadata": {},
   "outputs": [],
   "source": [
    "from sklearn.tree import DecisionTreeClassifier\n",
    "from sklearn.metrics import accuracy_score, f1_score, precision_score,recall_score"
   ]
  },
  {
   "cell_type": "code",
   "execution_count": 59,
   "metadata": {},
   "outputs": [],
   "source": [
    "y = df_e.iloc[:, -1].values\n",
    "X = df_e.iloc[:, :-1].values\n",
    "from sklearn.model_selection import train_test_split\n",
    "X_train, X_test, y_train, y_test = train_test_split(X,y,test_size=.25,random_state=0)"
   ]
  },
  {
   "cell_type": "code",
   "execution_count": 60,
   "metadata": {},
   "outputs": [],
   "source": [
    "temp2={}"
   ]
  },
  {
   "cell_type": "code",
   "execution_count": 61,
   "metadata": {},
   "outputs": [],
   "source": [
    "modeldt = DecisionTreeClassifier()\n",
    "modeldt.fit(X_train, y_train)\n",
    "y_pred = modeldt.predict(X_test)\n",
    "temp2[0]=([accuracy_score(y_test, y_pred),precision_score(y_test, y_pred, average='weighted'),recall_score(y_test, y_pred, average='weighted'),f1_score(y_test, y_pred, average='weighted')])   "
   ]
  },
  {
   "cell_type": "code",
   "execution_count": 62,
   "metadata": {},
   "outputs": [
    {
     "name": "stdout",
     "output_type": "stream",
     "text": [
      "{0: [0.9404761904761905, 0.9446271929824561, 0.9404761904761905, 0.9422657952069718]}\n"
     ]
    }
   ],
   "source": [
    "print(temp2)"
   ]
  },
  {
   "cell_type": "markdown",
   "metadata": {},
   "source": [
    "SMOTE on Ecoli3"
   ]
  },
  {
   "cell_type": "code",
   "execution_count": 63,
   "metadata": {},
   "outputs": [],
   "source": [
    "y = df_e_smote.iloc[:, -1].values\n",
    "X = df_e_smote.iloc[:, :-1].values\n",
    "from sklearn.model_selection import train_test_split\n",
    "X_train, X_test, y_train, y_test = train_test_split(X,y,test_size=.25,random_state=0)"
   ]
  },
  {
   "cell_type": "code",
   "execution_count": 64,
   "metadata": {},
   "outputs": [],
   "source": [
    "modeldt = DecisionTreeClassifier()\n",
    "modeldt.fit(X_train, y_train)\n",
    "y_pred = modeldt.predict(X_test)\n",
    "temp2[1]=([accuracy_score(y_test, y_pred),precision_score(y_test, y_pred, average='weighted'),recall_score(y_test, y_pred, average='weighted'),f1_score(y_test, y_pred, average='weighted')])   "
   ]
  },
  {
   "cell_type": "code",
   "execution_count": 65,
   "metadata": {},
   "outputs": [
    {
     "name": "stdout",
     "output_type": "stream",
     "text": [
      "{0: [0.9404761904761905, 0.9446271929824561, 0.9404761904761905, 0.9422657952069718], 1: [0.9196428571428571, 0.9319007263922519, 0.9196428571428571, 0.9198159439284289]}\n"
     ]
    }
   ],
   "source": [
    "print(temp2)"
   ]
  },
  {
   "cell_type": "markdown",
   "metadata": {},
   "source": [
    "ADASYN on Ecoli3"
   ]
  },
  {
   "cell_type": "code",
   "execution_count": 66,
   "metadata": {},
   "outputs": [],
   "source": [
    "y = df_e_ad.iloc[:, -1].values\n",
    "X = df_e_ad.iloc[:, :-1].values\n",
    "from sklearn.model_selection import train_test_split\n",
    "X_train, X_test, y_train, y_test = train_test_split(X,y,test_size=.25,random_state=0)"
   ]
  },
  {
   "cell_type": "code",
   "execution_count": 67,
   "metadata": {},
   "outputs": [],
   "source": [
    "modeldt = DecisionTreeClassifier()\n",
    "modeldt.fit(X_train, y_train)\n",
    "y_pred = modeldt.predict(X_test)\n",
    "temp2[2]=([accuracy_score(y_test, y_pred),precision_score(y_test, y_pred, average='weighted'),recall_score(y_test, y_pred, average='weighted'),f1_score(y_test, y_pred, average='weighted')])   "
   ]
  },
  {
   "cell_type": "code",
   "execution_count": 68,
   "metadata": {},
   "outputs": [
    {
     "name": "stdout",
     "output_type": "stream",
     "text": [
      "{0: [0.9404761904761905, 0.9446271929824561, 0.9404761904761905, 0.9422657952069718], 1: [0.9196428571428571, 0.9319007263922519, 0.9196428571428571, 0.9198159439284289], 2: [0.9285714285714286, 0.938423645320197, 0.9285714285714286, 0.9287538770297391]}\n"
     ]
    }
   ],
   "source": [
    "print(temp2)"
   ]
  },
  {
   "cell_type": "markdown",
   "metadata": {},
   "source": [
    "Borderline SMOTE on Ecoli3"
   ]
  },
  {
   "cell_type": "code",
   "execution_count": 69,
   "metadata": {},
   "outputs": [],
   "source": [
    "y = df_e_bd.iloc[:, -1].values\n",
    "X = df_e_bd.iloc[:, :-1].values\n",
    "from sklearn.model_selection import train_test_split\n",
    "X_train, X_test, y_train, y_test = train_test_split(X,y,test_size=.25,random_state=0)"
   ]
  },
  {
   "cell_type": "code",
   "execution_count": 70,
   "metadata": {},
   "outputs": [],
   "source": [
    "modeldt = DecisionTreeClassifier()\n",
    "modeldt.fit(X_train, y_train)\n",
    "y_pred = modeldt.predict(X_test)\n",
    "temp2[3]=([accuracy_score(y_test, y_pred),precision_score(y_test, y_pred, average='weighted'),recall_score(y_test, y_pred, average='weighted'),f1_score(y_test, y_pred, average='weighted')])   "
   ]
  },
  {
   "cell_type": "code",
   "execution_count": 71,
   "metadata": {},
   "outputs": [
    {
     "name": "stdout",
     "output_type": "stream",
     "text": [
      "{0: [0.9404761904761905, 0.9446271929824561, 0.9404761904761905, 0.9422657952069718], 1: [0.9196428571428571, 0.9319007263922519, 0.9196428571428571, 0.9198159439284289], 2: [0.9285714285714286, 0.938423645320197, 0.9285714285714286, 0.9287538770297391], 3: [0.9196428571428571, 0.9272784233310549, 0.9196428571428571, 0.9198675156619082]}\n"
     ]
    }
   ],
   "source": [
    "print(temp2)"
   ]
  },
  {
   "cell_type": "markdown",
   "metadata": {},
   "source": [
    "Safe level SMOTE on Ecoli3"
   ]
  },
  {
   "cell_type": "code",
   "execution_count": 72,
   "metadata": {},
   "outputs": [],
   "source": [
    "y = df_e_sl.iloc[:, -1].values\n",
    "X = df_e_sl.iloc[:, :-1].values\n",
    "from sklearn.model_selection import train_test_split\n",
    "X_train, X_test, y_train, y_test = train_test_split(X,y,test_size=.25,random_state=0)"
   ]
  },
  {
   "cell_type": "code",
   "execution_count": 73,
   "metadata": {},
   "outputs": [],
   "source": [
    "modeldt = DecisionTreeClassifier()\n",
    "modeldt.fit(X_train, y_train)\n",
    "y_pred = modeldt.predict(X_test)\n",
    "temp2[4]=([accuracy_score(y_test, y_pred),precision_score(y_test, y_pred, average='weighted'),recall_score(y_test, y_pred, average='weighted'),f1_score(y_test, y_pred, average='weighted')])   "
   ]
  },
  {
   "cell_type": "code",
   "execution_count": 74,
   "metadata": {},
   "outputs": [
    {
     "name": "stdout",
     "output_type": "stream",
     "text": [
      "{0: [0.9404761904761905, 0.9446271929824561, 0.9404761904761905, 0.9422657952069718], 1: [0.9196428571428571, 0.9319007263922519, 0.9196428571428571, 0.9198159439284289], 2: [0.9285714285714286, 0.938423645320197, 0.9285714285714286, 0.9287538770297391], 3: [0.9196428571428571, 0.9272784233310549, 0.9196428571428571, 0.9198675156619082], 4: [0.75, 0.801923076923077, 0.75, 0.7658416897802433]}\n"
     ]
    }
   ],
   "source": [
    "print(temp2)"
   ]
  },
  {
   "cell_type": "code",
   "execution_count": 75,
   "metadata": {},
   "outputs": [
    {
     "data": {
      "text/plain": [
       "{0: [0.9404761904761905,\n",
       "  0.9446271929824561,\n",
       "  0.9404761904761905,\n",
       "  0.9422657952069718],\n",
       " 1: [0.9196428571428571,\n",
       "  0.9319007263922519,\n",
       "  0.9196428571428571,\n",
       "  0.9198159439284289],\n",
       " 2: [0.9285714285714286,\n",
       "  0.938423645320197,\n",
       "  0.9285714285714286,\n",
       "  0.9287538770297391],\n",
       " 3: [0.9196428571428571,\n",
       "  0.9272784233310549,\n",
       "  0.9196428571428571,\n",
       "  0.9198675156619082],\n",
       " 4: [0.75, 0.801923076923077, 0.75, 0.7658416897802433]}"
      ]
     },
     "metadata": {},
     "output_type": "display_data"
    }
   ],
   "source": [
    "display(temp2)"
   ]
  },
  {
   "cell_type": "code",
   "execution_count": 76,
   "metadata": {},
   "outputs": [],
   "source": [
    "df_Ecoli3=pd.DataFrame(temp2)"
   ]
  },
  {
   "cell_type": "code",
   "execution_count": 77,
   "metadata": {},
   "outputs": [
    {
     "data": {
      "text/html": [
       "<div>\n",
       "<style scoped>\n",
       "    .dataframe tbody tr th:only-of-type {\n",
       "        vertical-align: middle;\n",
       "    }\n",
       "\n",
       "    .dataframe tbody tr th {\n",
       "        vertical-align: top;\n",
       "    }\n",
       "\n",
       "    .dataframe thead th {\n",
       "        text-align: right;\n",
       "    }\n",
       "</style>\n",
       "<table border=\"1\" class=\"dataframe\">\n",
       "  <thead>\n",
       "    <tr style=\"text-align: right;\">\n",
       "      <th></th>\n",
       "      <th>0</th>\n",
       "      <th>1</th>\n",
       "      <th>2</th>\n",
       "      <th>3</th>\n",
       "      <th>4</th>\n",
       "    </tr>\n",
       "  </thead>\n",
       "  <tbody>\n",
       "    <tr>\n",
       "      <th>0</th>\n",
       "      <td>0.940476</td>\n",
       "      <td>0.919643</td>\n",
       "      <td>0.928571</td>\n",
       "      <td>0.919643</td>\n",
       "      <td>0.750000</td>\n",
       "    </tr>\n",
       "    <tr>\n",
       "      <th>1</th>\n",
       "      <td>0.944627</td>\n",
       "      <td>0.931901</td>\n",
       "      <td>0.938424</td>\n",
       "      <td>0.927278</td>\n",
       "      <td>0.801923</td>\n",
       "    </tr>\n",
       "    <tr>\n",
       "      <th>2</th>\n",
       "      <td>0.940476</td>\n",
       "      <td>0.919643</td>\n",
       "      <td>0.928571</td>\n",
       "      <td>0.919643</td>\n",
       "      <td>0.750000</td>\n",
       "    </tr>\n",
       "    <tr>\n",
       "      <th>3</th>\n",
       "      <td>0.942266</td>\n",
       "      <td>0.919816</td>\n",
       "      <td>0.928754</td>\n",
       "      <td>0.919868</td>\n",
       "      <td>0.765842</td>\n",
       "    </tr>\n",
       "  </tbody>\n",
       "</table>\n",
       "</div>"
      ],
      "text/plain": [
       "          0         1         2         3         4\n",
       "0  0.940476  0.919643  0.928571  0.919643  0.750000\n",
       "1  0.944627  0.931901  0.938424  0.927278  0.801923\n",
       "2  0.940476  0.919643  0.928571  0.919643  0.750000\n",
       "3  0.942266  0.919816  0.928754  0.919868  0.765842"
      ]
     },
     "metadata": {},
     "output_type": "display_data"
    }
   ],
   "source": [
    "display(df_Ecoli3)"
   ]
  },
  {
   "cell_type": "code",
   "execution_count": 78,
   "metadata": {},
   "outputs": [],
   "source": [
    "head=['Without Smote','With Smote','With ADASYN','With Borderline Smote','With Safe Level Smote']\n",
    "df_Ecoli3.columns=head"
   ]
  },
  {
   "cell_type": "code",
   "execution_count": 79,
   "metadata": {},
   "outputs": [
    {
     "data": {
      "text/html": [
       "<div>\n",
       "<style scoped>\n",
       "    .dataframe tbody tr th:only-of-type {\n",
       "        vertical-align: middle;\n",
       "    }\n",
       "\n",
       "    .dataframe tbody tr th {\n",
       "        vertical-align: top;\n",
       "    }\n",
       "\n",
       "    .dataframe thead th {\n",
       "        text-align: right;\n",
       "    }\n",
       "</style>\n",
       "<table border=\"1\" class=\"dataframe\">\n",
       "  <thead>\n",
       "    <tr style=\"text-align: right;\">\n",
       "      <th></th>\n",
       "      <th>Without Smote</th>\n",
       "      <th>With Smote</th>\n",
       "      <th>With ADASYN</th>\n",
       "      <th>With Borderline Smote</th>\n",
       "      <th>With Safe Level Smote</th>\n",
       "    </tr>\n",
       "  </thead>\n",
       "  <tbody>\n",
       "    <tr>\n",
       "      <th>0</th>\n",
       "      <td>0.940476</td>\n",
       "      <td>0.919643</td>\n",
       "      <td>0.928571</td>\n",
       "      <td>0.919643</td>\n",
       "      <td>0.750000</td>\n",
       "    </tr>\n",
       "    <tr>\n",
       "      <th>1</th>\n",
       "      <td>0.944627</td>\n",
       "      <td>0.931901</td>\n",
       "      <td>0.938424</td>\n",
       "      <td>0.927278</td>\n",
       "      <td>0.801923</td>\n",
       "    </tr>\n",
       "    <tr>\n",
       "      <th>2</th>\n",
       "      <td>0.940476</td>\n",
       "      <td>0.919643</td>\n",
       "      <td>0.928571</td>\n",
       "      <td>0.919643</td>\n",
       "      <td>0.750000</td>\n",
       "    </tr>\n",
       "    <tr>\n",
       "      <th>3</th>\n",
       "      <td>0.942266</td>\n",
       "      <td>0.919816</td>\n",
       "      <td>0.928754</td>\n",
       "      <td>0.919868</td>\n",
       "      <td>0.765842</td>\n",
       "    </tr>\n",
       "  </tbody>\n",
       "</table>\n",
       "</div>"
      ],
      "text/plain": [
       "   Without Smote  With Smote  With ADASYN  With Borderline Smote  \\\n",
       "0       0.940476    0.919643     0.928571               0.919643   \n",
       "1       0.944627    0.931901     0.938424               0.927278   \n",
       "2       0.940476    0.919643     0.928571               0.919643   \n",
       "3       0.942266    0.919816     0.928754               0.919868   \n",
       "\n",
       "   With Safe Level Smote  \n",
       "0               0.750000  \n",
       "1               0.801923  \n",
       "2               0.750000  \n",
       "3               0.765842  "
      ]
     },
     "metadata": {},
     "output_type": "display_data"
    }
   ],
   "source": [
    "display(df_Ecoli3)"
   ]
  },
  {
   "cell_type": "code",
   "execution_count": 80,
   "metadata": {},
   "outputs": [],
   "source": [
    "df_PageBlock.to_csv(r'E:\\5th SEM CSE\\ML internship\\REPORT\\Ecoli3_Dataframe.csv', index = False, header=True)"
   ]
  },
  {
   "cell_type": "code",
   "execution_count": null,
   "metadata": {},
   "outputs": [],
   "source": []
  },
  {
   "cell_type": "code",
   "execution_count": null,
   "metadata": {},
   "outputs": [],
   "source": []
  }
 ],
 "metadata": {
  "kernelspec": {
   "display_name": "Python 3",
   "language": "python",
   "name": "python3"
  },
  "language_info": {
   "codemirror_mode": {
    "name": "ipython",
    "version": 3
   },
   "file_extension": ".py",
   "mimetype": "text/x-python",
   "name": "python",
   "nbconvert_exporter": "python",
   "pygments_lexer": "ipython3",
   "version": "3.8.5"
  }
 },
 "nbformat": 4,
 "nbformat_minor": 4
}
